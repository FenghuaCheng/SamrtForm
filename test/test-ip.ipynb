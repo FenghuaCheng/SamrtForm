{
 "cells": [
  {
   "cell_type": "code",
   "execution_count": null,
   "metadata": {},
   "outputs": [],
   "source": [
    "import cv2\n",
    "import numpy as np\n",
    "\n",
    "\n",
    "def Angle_Cosine(a,b,c):\n",
    "    a_b_vector=a-b\n",
    "    a_c_vector=a-c\n",
    "    cosine=(a_b_vector@a_c_vector)/(np.linalg.norm(a_b_vector)*np.linalg.norm(a_c_vector))\n",
    "    return cosine\n",
    "\n",
    "\n",
    "img=cv2.imread(\"1.jpg\")\n",
    "GrayImage=cv2.cvtColor(img,cv2.COLOR_BGR2GRAY)\n",
    "ret, th = cv2.threshold(GrayImage,0,255,cv2.THRESH_BINARY | cv2.THRESH_OTSU)\n",
    "th_blur=cv2.GaussianBlur(th,(5,5),0)\n",
    "canny_result=cv2.Canny(th_blur,50,200)\n",
    "_, contours,hierarchy=cv2.findContours(canny_result,cv2.RETR_TREE,cv2.CHAIN_APPROX_NONE)\n",
    "for cont in contours:\n",
    "    perimeter = cv2.arcLength(cont,True)\n",
    "    epsilon = 0.02*perimeter\n",
    "    approx = cv2.approxPolyDP(cont,epsilon,True)\n",
    "    if (len(approx)==4 and abs(cv2.contourArea(cont))>100):\n",
    "        point_1=approx[0,0]\n",
    "        point_2=approx[1,0]\n",
    "        point_3=approx[2,0]\n",
    "        point_4=approx[3,0]\n",
    "        min_1_2_3=min(abs(Angle_Cosine(point_1,point_2,point_3)),abs(Angle_Cosine(point_2,point_1,point_3)),abs(Angle_Cosine(point_3,point_1,point_2)))\n",
    "        min_1_2_4=min(abs(Angle_Cosine(point_1,point_2,point_4)),abs(Angle_Cosine(point_2,point_1,point_4)),abs(Angle_Cosine(point_4,point_1,point_2)))\n",
    "        min_1_3_4=min(abs(Angle_Cosine(point_1,point_3,point_4)),abs(Angle_Cosine(point_3,point_1,point_4)),abs(Angle_Cosine(point_4,point_1,point_3)))\n",
    "        min_2_3_4=min(abs(Angle_Cosine(point_2,point_3,point_4)),abs(Angle_Cosine(point_3,point_2,point_4)),abs(Angle_Cosine(point_4,point_2,point_3)))\n",
    "        if(min_1_2_3<0.1 and min_1_2_4<0.1 and min_1_3_4<0.1 and min_2_3_4<0.1):\n",
    "            cv2.drawContours(img,cont,-1,(255,0,0))\n",
    "for i in range(len(top_list)):\n",
    "    cv2.rectangle(img, (left_list[i],top_list[i]), (left_list[i]+width_list[i],top_list[i]+height_list[i]),(0,0,255), 2)\n",
    "cv2.imshow('visualize',img)\n",
    "cv2.imshow(\"visualize\", img)\n",
    "cv2.imshow(\"canny_result\",canny_result)\n",
    "cv2.waitKey(0)\n",
    "cv2.destroyAllWindows()"
   ]
  },
  {
   "cell_type": "code",
   "execution_count": 13,
   "metadata": {},
   "outputs": [],
   "source": [
    "img=cv2.imread(\"1.jpg\")\n",
    "GrayImage=cv2.cvtColor(img,cv2.COLOR_BGR2GRAY)\n",
    "ret, th = cv2.threshold(GrayImage,0,255,cv2.THRESH_BINARY | cv2.THRESH_OTSU)\n",
    "#th_morph = cv2.morphologyEx(th, cv2.MORPH_CLOSE, cv2.getStructuringElement(cv2.MORPH_ELLIPSE, (1, 1)))\n",
    "th_blur=cv2.GaussianBlur(th,(5,5),0)\n",
    "#th = cv2.adaptiveThreshold(GrayImage,255,cv2.ADAPTIVE_THRESH_MEAN_C,cv2.THRESH_BINARY,5,5)\n",
    "#cv2.imwrite(\"./tests/data/contract3 1 th.png\", th)\n",
    "canny_result=cv2.Canny(th_blur,50,200)\n",
    "_, contours,hierarchy=cv2.findContours(canny_result,cv2.RETR_TREE,cv2.CHAIN_APPROX_NONE)\n",
    "for cont in contours:\n",
    "    perimeter = cv2.arcLength(cont,True)\n",
    "    epsilon = 0.02*cv2.arcLength(cont,True)\n",
    "    approx = cv2.approxPolyDP(cont,epsilon,True)\n",
    "#     if (len(approx)==4 and abs(cv2.contourArea(cont))>100):\n",
    "        cv2.drawContours(img,cont,-1,(255,0,0))\n",
    "cv2.imshow(\"visualize\", img)\n",
    "cv2.imshow(\"canny_result\",canny_result)\n",
    "cv2.waitKey(0)\n",
    "cv2.destroyAllWindows()"
   ]
  },
  {
   "cell_type": "code",
   "execution_count": null,
   "metadata": {},
   "outputs": [],
   "source": []
  }
 ],
 "metadata": {
  "kernelspec": {
   "display_name": "Python 3",
   "language": "python",
   "name": "python3"
  },
  "language_info": {
   "codemirror_mode": {
    "name": "ipython",
    "version": 3
   },
   "file_extension": ".py",
   "mimetype": "text/x-python",
   "name": "python",
   "nbconvert_exporter": "python",
   "pygments_lexer": "ipython3",
   "version": "3.5.6"
  }
 },
 "nbformat": 4,
 "nbformat_minor": 2
}
