{
 "cells": [
  {
   "cell_type": "code",
   "execution_count": 1,
   "metadata": {},
   "outputs": [],
   "source": [
    "from Form import Form\n",
    "from Image import Image"
   ]
  },
  {
   "cell_type": "code",
   "execution_count": 18,
   "metadata": {},
   "outputs": [
    {
     "name": "stdout",
     "output_type": "stream",
     "text": [
      "*** OCR Processing Time:3.224 s***\n"
     ]
    }
   ],
   "source": [
    "form = Form('2.jpg')\n",
    "form.text_detection()\n",
    "form.element_detection()\n",
    "form.visualize()"
   ]
  },
  {
   "cell_type": "code",
   "execution_count": 2,
   "metadata": {},
   "outputs": [],
   "source": [
    "img = Image('2.jpg')"
   ]
  },
  {
   "cell_type": "code",
   "execution_count": 4,
   "metadata": {},
   "outputs": [
    {
     "data": {
      "text/plain": [
       "array([[0., 0., 0., ..., 0., 0., 0.],\n",
       "       [0., 0., 0., ..., 0., 0., 0.],\n",
       "       [0., 0., 0., ..., 0., 0., 0.],\n",
       "       ...,\n",
       "       [0., 0., 0., ..., 0., 0., 0.],\n",
       "       [0., 0., 0., ..., 0., 0., 0.],\n",
       "       [0., 0., 0., ..., 0., 0., 0.]])"
      ]
     },
     "execution_count": 4,
     "metadata": {},
     "output_type": "execute_result"
    }
   ],
   "source": [
    "img.detect_rectangle_elements()\n",
    "img.detect_line_elements()\n",
    "b = img.visualize_elements_contours(element_opt='rectangle', board_opt='binary')\n",
    "img.visualize_elements_contours(element_opt='line', board_opt='binary', board=b)"
   ]
  },
  {
   "cell_type": "code",
   "execution_count": 5,
   "metadata": {},
   "outputs": [
    {
     "data": {
      "text/plain": [
       "[<Element.Element at 0x1ce983142e8>,\n",
       " <Element.Element at 0x1ce98314358>,\n",
       " <Element.Element at 0x1ce98314390>,\n",
       " <Element.Element at 0x1ce98314550>,\n",
       " <Element.Element at 0x1ce983145c0>,\n",
       " <Element.Element at 0x1ce983146d8>,\n",
       " <Element.Element at 0x1ce98314748>,\n",
       " <Element.Element at 0x1ce983147b8>,\n",
       " <Element.Element at 0x1ce98314908>,\n",
       " <Element.Element at 0x1ce98314978>,\n",
       " <Element.Element at 0x1ce983149e8>,\n",
       " <Element.Element at 0x1ce98314b00>,\n",
       " <Element.Element at 0x1ce98314b70>,\n",
       " <Element.Element at 0x1ce98314c18>,\n",
       " <Element.Element at 0x1ce98314c88>,\n",
       " <Element.Element at 0x1ce98314d30>,\n",
       " <Element.Element at 0x1ce98314e48>,\n",
       " <Element.Element at 0x1ce983253c8>,\n",
       " <Element.Element at 0x1ce983257b8>,\n",
       " <Element.Element at 0x1ce983259b0>,\n",
       " <Element.Element at 0x1ce98325e80>,\n",
       " <Element.Element at 0x1ce98325eb8>,\n",
       " <Element.Element at 0x1ce9832c080>,\n",
       " <Element.Element at 0x1ce9832c3c8>,\n",
       " <Element.Element at 0x1ce9832c4e0>,\n",
       " <Element.Element at 0x1ce9832c518>,\n",
       " <Element.Element at 0x1ce9832c630>,\n",
       " <Element.Element at 0x1ce9832c748>,\n",
       " <Element.Element at 0x1ce983a0208>,\n",
       " <Element.Element at 0x1ce983a0320>,\n",
       " <Element.Element at 0x1ce983142e8>,\n",
       " <Element.Element at 0x1ce98314358>,\n",
       " <Element.Element at 0x1ce98314390>,\n",
       " <Element.Element at 0x1ce98314550>,\n",
       " <Element.Element at 0x1ce983145c0>,\n",
       " <Element.Element at 0x1ce983146d8>,\n",
       " <Element.Element at 0x1ce98314748>,\n",
       " <Element.Element at 0x1ce983147b8>,\n",
       " <Element.Element at 0x1ce98314908>,\n",
       " <Element.Element at 0x1ce98314978>,\n",
       " <Element.Element at 0x1ce983149e8>,\n",
       " <Element.Element at 0x1ce98314b00>,\n",
       " <Element.Element at 0x1ce98314b70>,\n",
       " <Element.Element at 0x1ce98314c18>,\n",
       " <Element.Element at 0x1ce98314c88>,\n",
       " <Element.Element at 0x1ce98314d30>,\n",
       " <Element.Element at 0x1ce98314e48>,\n",
       " <Element.Element at 0x1ce983253c8>,\n",
       " <Element.Element at 0x1ce983257b8>,\n",
       " <Element.Element at 0x1ce983259b0>,\n",
       " <Element.Element at 0x1ce98325e80>,\n",
       " <Element.Element at 0x1ce98325eb8>,\n",
       " <Element.Element at 0x1ce9832c080>,\n",
       " <Element.Element at 0x1ce9832c3c8>,\n",
       " <Element.Element at 0x1ce9832c4e0>,\n",
       " <Element.Element at 0x1ce9832c518>,\n",
       " <Element.Element at 0x1ce9832c630>,\n",
       " <Element.Element at 0x1ce9832c748>,\n",
       " <Element.Element at 0x1ce983a0208>,\n",
       " <Element.Element at 0x1ce983a0320>]"
      ]
     },
     "execution_count": 5,
     "metadata": {},
     "output_type": "execute_result"
    }
   ],
   "source": [
    "img.rectangle_elements"
   ]
  },
  {
   "cell_type": "code",
   "execution_count": null,
   "metadata": {},
   "outputs": [],
   "source": []
  }
 ],
 "metadata": {
  "kernelspec": {
   "display_name": "Python 3",
   "language": "python",
   "name": "python3"
  },
  "language_info": {
   "codemirror_mode": {
    "name": "ipython",
    "version": 3
   },
   "file_extension": ".py",
   "mimetype": "text/x-python",
   "name": "python",
   "nbconvert_exporter": "python",
   "pygments_lexer": "ipython3",
   "version": "3.5.6"
  }
 },
 "nbformat": 4,
 "nbformat_minor": 2
}
