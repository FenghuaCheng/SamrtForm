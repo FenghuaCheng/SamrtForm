{
 "cells": [
  {
   "cell_type": "code",
   "execution_count": 1,
   "metadata": {},
   "outputs": [],
   "source": [
    "from Form import Form\n",
    "from Image import Image\n",
    "import cv2"
   ]
  },
  {
   "cell_type": "code",
   "execution_count": 2,
   "metadata": {},
   "outputs": [
    {
     "name": "stdout",
     "output_type": "stream",
     "text": [
      "*** OCR Processing Time:4.098 s***\n"
     ]
    }
   ],
   "source": [
    "form = Form('2.jpg')\n",
    "form.text_detection()\n",
    "form.element_detection()\n",
    "form.visualize()"
   ]
  },
  {
   "cell_type": "code",
   "execution_count": 2,
   "metadata": {},
   "outputs": [
    {
     "data": {
      "text/plain": [
       "array([[0., 0., 0., ..., 0., 0., 0.],\n",
       "       [0., 0., 0., ..., 0., 0., 0.],\n",
       "       [0., 0., 0., ..., 0., 0., 0.],\n",
       "       ...,\n",
       "       [0., 0., 0., ..., 0., 0., 0.],\n",
       "       [0., 0., 0., ..., 0., 0., 0.],\n",
       "       [0., 0., 0., ..., 0., 0., 0.]])"
      ]
     },
     "execution_count": 2,
     "metadata": {},
     "output_type": "execute_result"
    }
   ],
   "source": [
    "img = Image('2.jpg')\n",
    "img.detect_rectangle_elements()\n",
    "img.detect_line_elements()\n",
    "b = img.visualize_elements_contours(element_opt='rectangle', board_opt='binary')\n",
    "img.visualize_elements_contours(element_opt='line', board_opt='binary', board=b)"
   ]
  },
  {
   "cell_type": "code",
   "execution_count": 8,
   "metadata": {},
   "outputs": [],
   "source": [
    "img.rectangle_elements[5].visualize_clip()"
   ]
  },
  {
   "cell_type": "code",
   "execution_count": 12,
   "metadata": {},
   "outputs": [],
   "source": [
    "cv2.imshow('bin', img.binary_map)\n",
    "cv2.waitKey()\n",
    "cv2.destroyAllWindows()"
   ]
  },
  {
   "cell_type": "code",
   "execution_count": 13,
   "metadata": {},
   "outputs": [],
   "source": [
    "ele = img.rectangle_elements[5]"
   ]
  },
  {
   "cell_type": "code",
   "execution_count": 3,
   "metadata": {},
   "outputs": [
    {
     "name": "stdout",
     "output_type": "stream",
     "text": [
      "0.17900063251106893\n",
      "0.13175675675675674\n",
      "0.12446059504883035\n",
      "0.3181818181818182\n",
      "0.3055555555555556\n",
      "0.3055555555555556\n",
      "0.3055555555555556\n",
      "0.8011695906432749\n",
      "0.3055555555555556\n",
      "0.3055555555555556\n",
      "0.3181818181818182\n",
      "0.3181818181818182\n",
      "0.3055555555555556\n",
      "0.13370646766169153\n",
      "0.13370646766169153\n",
      "0.13370646766169153\n",
      "0.32793522267206476\n",
      "0.13175675675675674\n",
      "0.785\n",
      "0.0660633484162896\n",
      "0.12446059504883035\n",
      "0.13175675675675674\n",
      "0.6363636363636364\n",
      "0.989010989010989\n",
      "0.12638322655794992\n",
      "0.12638322655794992\n",
      "0.1336206896551724\n",
      "0.987012987012987\n",
      "0.1513199444233927\n",
      "0.8988095238095238\n"
     ]
    },
    {
     "data": {
      "text/plain": [
       "[<Element.Element at 0x12b2356d1d0>,\n",
       " <Element.Element at 0x12b2356d240>,\n",
       " <Element.Element at 0x12b2356d278>,\n",
       " <Element.Element at 0x12b2356d4a8>,\n",
       " <Element.Element at 0x12b2356d588>,\n",
       " <Element.Element at 0x12b2356d6d8>,\n",
       " <Element.Element at 0x12b2356d7b8>,\n",
       " <Element.Element at 0x12b2356d860>,\n",
       " <Element.Element at 0x12b2356da58>,\n",
       " <Element.Element at 0x12b2356db00>,\n",
       " <Element.Element at 0x12b2356dba8>,\n",
       " <Element.Element at 0x12b2356dcf8>,\n",
       " <Element.Element at 0x12b2356dd68>,\n",
       " <Element.Element at 0x12b2356de10>,\n",
       " <Element.Element at 0x12b2356de80>,\n",
       " <Element.Element at 0x12b2356df28>,\n",
       " <Element.Element at 0x12b23574080>,\n",
       " <Element.Element at 0x12b23574630>,\n",
       " <Element.Element at 0x12b23574a58>,\n",
       " <Element.Element at 0x12b23574c50>,\n",
       " <Element.Element at 0x12b2357b240>,\n",
       " <Element.Element at 0x12b2357b278>,\n",
       " <Element.Element at 0x12b2357b4a8>,\n",
       " <Element.Element at 0x12b2357b828>,\n",
       " <Element.Element at 0x12b2357b940>,\n",
       " <Element.Element at 0x12b2357b978>,\n",
       " <Element.Element at 0x12b2357ba90>,\n",
       " <Element.Element at 0x12b2357bba8>,\n",
       " <Element.Element at 0x12b235d19e8>,\n",
       " <Element.Element at 0x12b235d1b00>]"
      ]
     },
     "execution_count": 3,
     "metadata": {},
     "output_type": "execute_result"
    }
   ],
   "source": [
    "img = Image('2.jpg')\n",
    "img.detect_rectangle_elements()"
   ]
  },
  {
   "cell_type": "code",
   "execution_count": null,
   "metadata": {},
   "outputs": [],
   "source": [
    " "
   ]
  }
 ],
 "metadata": {
  "kernelspec": {
   "display_name": "Python 3",
   "language": "python",
   "name": "python3"
  },
  "language_info": {
   "codemirror_mode": {
    "name": "ipython",
    "version": 3
   },
   "file_extension": ".py",
   "mimetype": "text/x-python",
   "name": "python",
   "nbconvert_exporter": "python",
   "pygments_lexer": "ipython3",
   "version": "3.5.6"
  }
 },
 "nbformat": 4,
 "nbformat_minor": 2
}
