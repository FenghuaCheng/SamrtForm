{
 "cells": [
  {
   "cell_type": "code",
   "execution_count": 1,
   "metadata": {},
   "outputs": [],
   "source": [
    "from Form import Form\n",
    "from Image import Image\n",
    "import cv2"
   ]
  },
  {
   "cell_type": "code",
   "execution_count": 2,
   "metadata": {},
   "outputs": [
    {
     "name": "stdout",
     "output_type": "stream",
     "text": [
      "*** OCR Processing Time:3.330 s***\n",
      "*** Element Detection Time:0.253 s***\n"
     ]
    }
   ],
   "source": [
    "form = Form('data/3.jpg')\n",
    "form.text_detection()\n",
    "form.element_detection()\n",
    "form.visualize_all_elements()"
   ]
  },
  {
   "cell_type": "code",
   "execution_count": 3,
   "metadata": {},
   "outputs": [
    {
     "name": "stdout",
     "output_type": "stream",
     "text": [
      "*** Element Detection Time:0.083 s***\n"
     ]
    }
   ],
   "source": [
    "form.textbox_detection()\n",
    "form.visualize_all_elements()"
   ]
  },
  {
   "cell_type": "code",
   "execution_count": 3,
   "metadata": {},
   "outputs": [
    {
     "ename": "AttributeError",
     "evalue": "'Form' object has no attribute 'text'",
     "output_type": "error",
     "traceback": [
      "\u001b[1;31m---------------------------------------------------------------------------\u001b[0m",
      "\u001b[1;31mAttributeError\u001b[0m                            Traceback (most recent call last)",
      "\u001b[1;32m<ipython-input-3-53839e8754a4>\u001b[0m in \u001b[0;36m<module>\u001b[1;34m()\u001b[0m\n\u001b[1;32m----> 1\u001b[1;33m \u001b[1;32mfor\u001b[0m \u001b[0mtext\u001b[0m \u001b[1;32min\u001b[0m \u001b[0mform\u001b[0m\u001b[1;33m.\u001b[0m\u001b[0mtext\u001b[0m\u001b[1;33m:\u001b[0m\u001b[1;33m\u001b[0m\u001b[0m\n\u001b[0m\u001b[0;32m      2\u001b[0m     \u001b[0mboard\u001b[0m \u001b[1;33m=\u001b[0m \u001b[0mform\u001b[0m\u001b[1;33m.\u001b[0m\u001b[0mimg\u001b[0m\u001b[1;33m.\u001b[0m\u001b[0mimg\u001b[0m\u001b[1;33m.\u001b[0m\u001b[0mcopy\u001b[0m\u001b[1;33m(\u001b[0m\u001b[1;33m)\u001b[0m\u001b[1;33m\u001b[0m\u001b[0m\n\u001b[0;32m      3\u001b[0m     \u001b[1;32mfor\u001b[0m \u001b[0mrec\u001b[0m \u001b[1;32min\u001b[0m \u001b[0mform\u001b[0m\u001b[1;33m.\u001b[0m\u001b[0mrectangles\u001b[0m\u001b[1;33m:\u001b[0m\u001b[1;33m\u001b[0m\u001b[0m\n\u001b[0;32m      4\u001b[0m         \u001b[1;32mif\u001b[0m \u001b[0mtext\u001b[0m\u001b[1;33m.\u001b[0m\u001b[0melement_relation\u001b[0m\u001b[1;33m(\u001b[0m\u001b[0mrec\u001b[0m\u001b[1;33m)\u001b[0m \u001b[1;33m!=\u001b[0m \u001b[1;36m0\u001b[0m\u001b[1;33m:\u001b[0m\u001b[1;33m\u001b[0m\u001b[0m\n\u001b[0;32m      5\u001b[0m             \u001b[0mtext\u001b[0m\u001b[1;33m.\u001b[0m\u001b[0mvisualize_element\u001b[0m\u001b[1;33m(\u001b[0m\u001b[0mboard\u001b[0m\u001b[1;33m,\u001b[0m \u001b[1;33m(\u001b[0m\u001b[1;36m0\u001b[0m\u001b[1;33m,\u001b[0m\u001b[1;36m255\u001b[0m\u001b[1;33m,\u001b[0m\u001b[1;36m0\u001b[0m\u001b[1;33m)\u001b[0m\u001b[1;33m,\u001b[0m \u001b[1;36m2\u001b[0m\u001b[1;33m)\u001b[0m\u001b[1;33m\u001b[0m\u001b[0m\n",
      "\u001b[1;31mAttributeError\u001b[0m: 'Form' object has no attribute 'text'"
     ]
    }
   ],
   "source": [
    "for text in form.text:\n",
    "    board = form.img.img.copy()\n",
    "    for rec in form.rectangles:\n",
    "        if text.element_relation(rec) != 0:\n",
    "            text.visualize_element(board, (0,255,0), 2)\n",
    "            rec.visualize_element(board, (0,0,255),2, show=True)"
   ]
  },
  {
   "cell_type": "code",
   "execution_count": null,
   "metadata": {},
   "outputs": [],
   "source": []
  },
  {
   "cell_type": "code",
   "execution_count": 4,
   "metadata": {},
   "outputs": [],
   "source": [
    "elements = form.sort_elements()"
   ]
  },
  {
   "cell_type": "code",
   "execution_count": 6,
   "metadata": {},
   "outputs": [
    {
     "name": "stdout",
     "output_type": "stream",
     "text": [
      "rectangle\n",
      "text\n",
      "text\n",
      "text\n",
      "text\n",
      "text\n",
      "text\n",
      "text\n",
      "text\n",
      "rectangle\n",
      "rectangle\n",
      "rectangle\n",
      "rectangle\n",
      "rectangle\n",
      "rectangle\n",
      "text\n",
      "text\n",
      "rectangle\n",
      "rectangle\n",
      "rectangle\n",
      "rectangle\n",
      "rectangle\n",
      "rectangle\n",
      "rectangle\n",
      "text\n",
      "text\n",
      "text\n",
      "rectangle\n",
      "rectangle\n",
      "text\n",
      "text\n",
      "text\n",
      "rectangle\n",
      "text\n",
      "text\n",
      "text\n",
      "text\n",
      "rectangle\n",
      "rectangle\n",
      "rectangle\n",
      "text\n",
      "text\n",
      "rectangle\n",
      "rectangle\n",
      "rectangle\n",
      "rectangle\n",
      "rectangle\n",
      "rectangle\n",
      "rectangle\n",
      "rectangle\n",
      "rectangle\n",
      "rectangle\n",
      "rectangle\n",
      "rectangle\n",
      "rectangle\n",
      "rectangle\n",
      "rectangle\n",
      "rectangle\n",
      "rectangle\n",
      "rectangle\n",
      "rectangle\n",
      "rectangle\n",
      "rectangle\n",
      "rectangle\n",
      "rectangle\n",
      "rectangle\n",
      "rectangle\n",
      "rectangle\n",
      "rectangle\n",
      "rectangle\n",
      "rectangle\n",
      "rectangle\n",
      "rectangle\n",
      "rectangle\n",
      "rectangle\n",
      "rectangle\n",
      "rectangle\n",
      "rectangle\n",
      "rectangle\n",
      "rectangle\n",
      "rectangle\n",
      "rectangle\n",
      "rectangle\n",
      "rectangle\n",
      "rectangle\n",
      "rectangle\n",
      "rectangle\n",
      "rectangle\n",
      "rectangle\n",
      "rectangle\n",
      "rectangle\n",
      "rectangle\n",
      "rectangle\n",
      "rectangle\n",
      "rectangle\n",
      "rectangle\n",
      "rectangle\n",
      "rectangle\n",
      "rectangle\n",
      "rectangle\n",
      "rectangle\n",
      "rectangle\n",
      "rectangle\n",
      "rectangle\n",
      "rectangle\n",
      "rectangle\n",
      "rectangle\n",
      "rectangle\n",
      "rectangle\n",
      "rectangle\n",
      "rectangle\n",
      "rectangle\n",
      "rectangle\n",
      "rectangle\n",
      "rectangle\n",
      "rectangle\n",
      "rectangle\n",
      "rectangle\n",
      "rectangle\n",
      "rectangle\n",
      "rectangle\n",
      "rectangle\n",
      "rectangle\n",
      "rectangle\n",
      "rectangle\n",
      "rectangle\n",
      "rectangle\n",
      "text\n",
      "text\n",
      "rectangle\n",
      "text\n",
      "text\n",
      "text\n",
      "rectangle\n",
      "rectangle\n",
      "text\n",
      "rectangle\n",
      "rectangle\n",
      "text\n",
      "text\n",
      "text\n",
      "rectangle\n",
      "text\n",
      "text\n",
      "rectangle\n",
      "rectangle\n",
      "text\n",
      "text\n",
      "text\n",
      "rectangle\n",
      "rectangle\n",
      "text\n",
      "text\n",
      "text\n",
      "rectangle\n",
      "rectangle\n",
      "rectangle\n",
      "rectangle\n",
      "rectangle\n",
      "text\n",
      "text\n",
      "text\n",
      "rectangle\n",
      "rectangle\n",
      "text\n",
      "text\n"
     ]
    }
   ],
   "source": [
    "for ele in elements:\n",
    "    print(ele.type)"
   ]
  }
 ],
 "metadata": {
  "kernelspec": {
   "display_name": "Python 3",
   "language": "python",
   "name": "python3"
  },
  "language_info": {
   "codemirror_mode": {
    "name": "ipython",
    "version": 3
   },
   "file_extension": ".py",
   "mimetype": "text/x-python",
   "name": "python",
   "nbconvert_exporter": "python",
   "pygments_lexer": "ipython3",
   "version": "3.5.6"
  }
 },
 "nbformat": 4,
 "nbformat_minor": 2
}
