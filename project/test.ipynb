{
 "cells": [
  {
   "cell_type": "code",
   "execution_count": 1,
   "metadata": {},
   "outputs": [],
   "source": [
    "from Form import Form\n",
    "from Image import Image\n",
    "import cv2"
   ]
  },
  {
   "cell_type": "code",
   "execution_count": 2,
   "metadata": {},
   "outputs": [
    {
     "name": "stdout",
     "output_type": "stream",
     "text": [
      "*** OCR Processing Time:2.505 s***\n",
      "*** Element Detection Time:0.250 s***\n"
     ]
    }
   ],
   "source": [
    "form = Form('data/3.jpg')\n",
    "form.text_detection()\n",
    "form.element_detection()\n",
    "form.visualize()"
   ]
  },
  {
   "cell_type": "code",
   "execution_count": 3,
   "metadata": {},
   "outputs": [
    {
     "data": {
      "text/plain": [
       "array([[0., 0., 0., ..., 0., 0., 0.],\n",
       "       [0., 0., 0., ..., 0., 0., 0.],\n",
       "       [0., 0., 0., ..., 0., 0., 0.],\n",
       "       ...,\n",
       "       [0., 0., 0., ..., 0., 0., 0.],\n",
       "       [0., 0., 0., ..., 0., 0., 0.],\n",
       "       [0., 0., 0., ..., 0., 0., 0.]])"
      ]
     },
     "execution_count": 3,
     "metadata": {},
     "output_type": "execute_result"
    }
   ],
   "source": [
    "form.img.visualize_elements_contours(element_opt='rectangle', board_opt='binary')"
   ]
  },
  {
   "cell_type": "code",
   "execution_count": 4,
   "metadata": {},
   "outputs": [],
   "source": [
    "elements = form.texts + form.rectangles + form.lines"
   ]
  },
  {
   "cell_type": "code",
   "execution_count": 7,
   "metadata": {},
   "outputs": [
    {
     "name": "stdout",
     "output_type": "stream",
     "text": [
      "{'top': 64, 'right': 125, 'left': 48, 'bottom': 77}\n",
      "{'top': 65, 'right': 671, 'left': 447, 'bottom': 76}\n",
      "{'top': 75, 'right': 120, 'left': 65, 'bottom': 88}\n",
      "{'top': 73, 'right': 607, 'left': 154, 'bottom': 88}\n",
      "{'top': 84, 'right': 124, 'left': 62, 'bottom': 99}\n",
      "{'top': 85, 'right': 554, 'left': 446, 'bottom': 98}\n",
      "{'top': 106, 'right': 227, 'left': 15, 'bottom': 118}\n",
      "{'top': 129, 'right': 87, 'left': 29, 'bottom': 139}\n",
      "{'top': 129, 'right': 325, 'left': 279, 'bottom': 139}\n",
      "{'top': 125, 'right': 516, 'left': 437, 'bottom': 140}\n",
      "{'top': 147, 'right': 91, 'left': 23, 'bottom': 158}\n",
      "{'top': 149, 'right': 308, 'left': 253, 'bottom': 160}\n",
      "{'top': 147, 'right': 545, 'left': 438, 'bottom': 158}\n",
      "{'top': 168, 'right': 109, 'left': 28, 'bottom': 179}\n",
      "{'top': 186, 'right': 178, 'left': 24, 'bottom': 201}\n",
      "{'top': 185, 'right': 303, 'left': 255, 'bottom': 203}\n",
      "{'top': 185, 'right': 540, 'left': 373, 'bottom': 203}\n",
      "{'top': 204, 'right': 532, 'left': 14, 'bottom': 221}\n",
      "{'top': 226, 'right': 126, 'left': 14, 'bottom': 246}\n",
      "{'top': 229, 'right': 356, 'left': 219, 'bottom': 243}\n",
      "{'top': 226, 'right': 665, 'left': 541, 'bottom': 247}\n",
      "{'top': 237, 'right': 671, 'left': 631, 'bottom': 249}\n",
      "{'top': 533, 'right': 434, 'left': 306, 'bottom': 547}\n",
      "{'top': 533, 'right': 579, 'left': 541, 'bottom': 546}\n",
      "{'top': 552, 'right': 657, 'left': 14, 'bottom': 565}\n",
      "{'top': 571, 'right': 157, 'left': 14, 'bottom': 587}\n",
      "{'top': 595, 'right': 38, 'left': 18, 'bottom': 607}\n",
      "{'top': 593, 'right': 341, 'left': 261, 'bottom': 607}\n",
      "{'top': 615, 'right': 82, 'left': 19, 'bottom': 627}\n",
      "{'top': 616, 'right': 335, 'left': 266, 'bottom': 629}\n",
      "{'top': 633, 'right': 504, 'left': 235, 'bottom': 648}\n",
      "{'top': 656, 'right': 107, 'left': 19, 'bottom': 667}\n",
      "{'top': 669, 'right': 98, 'left': 15, 'bottom': 687}\n",
      "{'top': 715, 'right': 156, 'left': 14, 'bottom': 729}\n",
      "{'top': 733, 'right': 543, 'left': 34, 'bottom': 743}\n",
      "{'top': 742, 'right': 303, 'left': 23, 'bottom': 753}\n",
      "{'top': 761, 'right': 58, 'left': 15, 'bottom': 772}\n",
      "{'top': 760, 'right': 426, 'left': 399, 'bottom': 772}\n",
      "{'top': 781, 'right': 659, 'left': 14, 'bottom': 798}\n",
      "{'top': 808, 'right': 97, 'left': 24, 'bottom': 819}\n",
      "{'top': 804, 'right': 260, 'left': 229, 'bottom': 818}\n",
      "{'top': 804, 'right': 393, 'left': 352, 'bottom': 819}\n",
      "{'top': 833, 'right': 58, 'left': 20, 'bottom': 843}\n",
      "{'top': 831, 'right': 426, 'left': 399, 'bottom': 844}\n",
      "{'top': 826, 'right': 403, 'left': 103, 'bottom': 852}\n",
      "{'top': 825, 'right': 678, 'left': 440, 'bottom': 852}\n",
      "{'top': 803, 'right': 677, 'left': 405, 'bottom': 823}\n",
      "{'top': 803, 'right': 356, 'left': 270, 'bottom': 824}\n",
      "{'top': 803, 'right': 268, 'left': 232, 'bottom': 824}\n",
      "{'top': 803, 'right': 232, 'left': 102, 'bottom': 824}\n",
      "{'top': 803, 'right': 102, 'left': 18, 'bottom': 824}\n",
      "{'top': 754, 'right': 677, 'left': 440, 'bottom': 781}\n",
      "{'top': 754, 'right': 403, 'left': 103, 'bottom': 781}\n",
      "{'top': 692, 'right': 677, 'left': 134, 'bottom': 712}\n",
      "{'top': 672, 'right': 677, 'left': 134, 'bottom': 692}\n",
      "{'top': 652, 'right': 677, 'left': 134, 'bottom': 672}\n",
      "{'top': 613, 'right': 677, 'left': 356, 'bottom': 632}\n",
      "{'top': 613, 'right': 268, 'left': 103, 'bottom': 632}\n",
      "{'top': 593, 'right': 677, 'left': 356, 'bottom': 613}\n",
      "{'top': 593, 'right': 268, 'left': 103, 'bottom': 613}\n",
      "{'top': 550, 'right': 678, 'left': 18, 'bottom': 571}\n",
      "{'top': 530, 'right': 629, 'left': 539, 'bottom': 550}\n",
      "{'top': 529, 'right': 538, 'left': 18, 'bottom': 550}\n",
      "{'top': 528, 'right': 679, 'left': 630, 'bottom': 551}\n",
      "{'top': 512, 'right': 660, 'left': 646, 'bottom': 525}\n",
      "{'top': 509, 'right': 629, 'left': 539, 'bottom': 529}\n",
      "{'top': 509, 'right': 537, 'left': 135, 'bottom': 529}\n",
      "{'top': 509, 'right': 134, 'left': 50, 'bottom': 528}\n",
      "{'top': 509, 'right': 49, 'left': 19, 'bottom': 528}\n",
      "{'top': 492, 'right': 660, 'left': 646, 'bottom': 506}\n",
      "{'top': 490, 'right': 629, 'left': 539, 'bottom': 509}\n",
      "{'top': 490, 'right': 537, 'left': 135, 'bottom': 509}\n",
      "{'top': 489, 'right': 678, 'left': 660, 'bottom': 509}\n",
      "{'top': 489, 'right': 647, 'left': 629, 'bottom': 509}\n",
      "{'top': 489, 'right': 134, 'left': 50, 'bottom': 508}\n",
      "{'top': 489, 'right': 49, 'left': 19, 'bottom': 508}\n",
      "{'top': 471, 'right': 660, 'left': 646, 'bottom': 485}\n",
      "{'top': 470, 'right': 629, 'left': 539, 'bottom': 489}\n",
      "{'top': 470, 'right': 537, 'left': 135, 'bottom': 489}\n",
      "{'top': 469, 'right': 134, 'left': 50, 'bottom': 488}\n",
      "{'top': 469, 'right': 49, 'left': 19, 'bottom': 488}\n",
      "{'top': 452, 'right': 660, 'left': 646, 'bottom': 465}\n",
      "{'top': 450, 'right': 629, 'left': 539, 'bottom': 469}\n",
      "{'top': 450, 'right': 537, 'left': 135, 'bottom': 469}\n",
      "{'top': 449, 'right': 134, 'left': 50, 'bottom': 469}\n",
      "{'top': 449, 'right': 50, 'left': 19, 'bottom': 469}\n",
      "{'top': 432, 'right': 660, 'left': 646, 'bottom': 446}\n",
      "{'top': 430, 'right': 629, 'left': 539, 'bottom': 449}\n",
      "{'top': 430, 'right': 537, 'left': 135, 'bottom': 449}\n",
      "{'top': 429, 'right': 678, 'left': 660, 'bottom': 449}\n",
      "{'top': 429, 'right': 647, 'left': 629, 'bottom': 449}\n",
      "{'top': 429, 'right': 134, 'left': 50, 'bottom': 449}\n",
      "{'top': 429, 'right': 50, 'left': 19, 'bottom': 449}\n",
      "{'top': 412, 'right': 660, 'left': 646, 'bottom': 426}\n",
      "{'top': 410, 'right': 629, 'left': 539, 'bottom': 429}\n",
      "{'top': 410, 'right': 537, 'left': 135, 'bottom': 429}\n",
      "{'top': 409, 'right': 678, 'left': 660, 'bottom': 429}\n",
      "{'top': 409, 'right': 647, 'left': 629, 'bottom': 429}\n",
      "{'top': 409, 'right': 134, 'left': 50, 'bottom': 429}\n",
      "{'top': 409, 'right': 50, 'left': 19, 'bottom': 429}\n",
      "{'top': 391, 'right': 660, 'left': 646, 'bottom': 405}\n",
      "{'top': 390, 'right': 629, 'left': 539, 'bottom': 409}\n",
      "{'top': 390, 'right': 537, 'left': 135, 'bottom': 409}\n",
      "{'top': 389, 'right': 134, 'left': 50, 'bottom': 409}\n",
      "{'top': 389, 'right': 50, 'left': 19, 'bottom': 409}\n",
      "{'top': 372, 'right': 660, 'left': 646, 'bottom': 386}\n",
      "{'top': 370, 'right': 629, 'left': 539, 'bottom': 389}\n",
      "{'top': 370, 'right': 537, 'left': 135, 'bottom': 389}\n",
      "{'top': 369, 'right': 678, 'left': 660, 'bottom': 389}\n",
      "{'top': 369, 'right': 647, 'left': 629, 'bottom': 389}\n",
      "{'top': 369, 'right': 134, 'left': 50, 'bottom': 389}\n",
      "{'top': 369, 'right': 50, 'left': 19, 'bottom': 389}\n",
      "{'top': 352, 'right': 660, 'left': 646, 'bottom': 366}\n",
      "{'top': 350, 'right': 629, 'left': 539, 'bottom': 369}\n",
      "{'top': 350, 'right': 537, 'left': 135, 'bottom': 369}\n",
      "{'top': 350, 'right': 134, 'left': 50, 'bottom': 369}\n",
      "{'top': 350, 'right': 50, 'left': 19, 'bottom': 369}\n",
      "{'top': 349, 'right': 678, 'left': 660, 'bottom': 369}\n",
      "{'top': 349, 'right': 647, 'left': 629, 'bottom': 369}\n",
      "{'top': 333, 'right': 660, 'left': 646, 'bottom': 346}\n",
      "{'top': 330, 'right': 678, 'left': 660, 'bottom': 349}\n",
      "{'top': 330, 'right': 647, 'left': 629, 'bottom': 349}\n",
      "{'top': 330, 'right': 629, 'left': 539, 'bottom': 349}\n",
      "{'top': 330, 'right': 537, 'left': 135, 'bottom': 349}\n",
      "{'top': 330, 'right': 134, 'left': 50, 'bottom': 349}\n",
      "{'top': 330, 'right': 50, 'left': 19, 'bottom': 349}\n",
      "{'top': 312, 'right': 660, 'left': 646, 'bottom': 325}\n",
      "{'top': 310, 'right': 629, 'left': 539, 'bottom': 330}\n",
      "{'top': 310, 'right': 537, 'left': 135, 'bottom': 330}\n",
      "{'top': 310, 'right': 134, 'left': 50, 'bottom': 330}\n",
      "{'top': 310, 'right': 50, 'left': 19, 'bottom': 329}\n",
      "{'top': 292, 'right': 660, 'left': 646, 'bottom': 306}\n",
      "{'top': 290, 'right': 629, 'left': 539, 'bottom': 310}\n",
      "{'top': 290, 'right': 537, 'left': 135, 'bottom': 310}\n",
      "{'top': 290, 'right': 134, 'left': 50, 'bottom': 310}\n",
      "{'top': 290, 'right': 50, 'left': 19, 'bottom': 309}\n",
      "{'top': 273, 'right': 660, 'left': 646, 'bottom': 286}\n",
      "{'top': 270, 'right': 629, 'left': 539, 'bottom': 290}\n",
      "{'top': 270, 'right': 537, 'left': 135, 'bottom': 290}\n",
      "{'top': 270, 'right': 134, 'left': 50, 'bottom': 290}\n",
      "{'top': 270, 'right': 50, 'left': 19, 'bottom': 289}\n",
      "{'top': 253, 'right': 660, 'left': 646, 'bottom': 266}\n",
      "{'top': 251, 'right': 629, 'left': 539, 'bottom': 270}\n",
      "{'top': 251, 'right': 537, 'left': 135, 'bottom': 270}\n",
      "{'top': 250, 'right': 134, 'left': 51, 'bottom': 269}\n",
      "{'top': 250, 'right': 50, 'left': 18, 'bottom': 269}\n",
      "{'top': 227, 'right': 629, 'left': 538, 'bottom': 250}\n",
      "{'top': 227, 'right': 538, 'left': 134, 'bottom': 250}\n",
      "{'top': 227, 'right': 134, 'left': 51, 'bottom': 250}\n",
      "{'top': 185, 'right': 134, 'left': 18, 'bottom': 205}\n",
      "{'top': 165, 'right': 677, 'left': 134, 'bottom': 185}\n",
      "{'top': 165, 'right': 134, 'left': 18, 'bottom': 185}\n",
      "{'top': 146, 'right': 677, 'left': 552, 'bottom': 165}\n",
      "{'top': 146, 'right': 264, 'left': 248, 'bottom': 163}\n",
      "{'top': 146, 'right': 249, 'left': 136, 'bottom': 164}\n",
      "{'top': 145, 'right': 549, 'left': 439, 'bottom': 165}\n",
      "{'top': 145, 'right': 439, 'left': 356, 'bottom': 165}\n",
      "{'top': 145, 'right': 356, 'left': 268, 'bottom': 165}\n",
      "{'top': 145, 'right': 134, 'left': 18, 'bottom': 165}\n",
      "{'top': 127, 'right': 676, 'left': 552, 'bottom': 144}\n",
      "{'top': 127, 'right': 438, 'left': 358, 'bottom': 144}\n",
      "{'top': 127, 'right': 266, 'left': 136, 'bottom': 143}\n",
      "{'top': 125, 'right': 549, 'left': 439, 'bottom': 145}\n",
      "{'top': 125, 'right': 356, 'left': 268, 'bottom': 145}\n",
      "{'top': 125, 'right': 134, 'left': 18, 'bottom': 145}\n",
      "{'top': 60, 'right': 678, 'left': 18, 'bottom': 103}\n"
     ]
    }
   ],
   "source": [
    "for ele in elements:\n",
    "    print(ele.location)"
   ]
  },
  {
   "cell_type": "code",
   "execution_count": null,
   "metadata": {},
   "outputs": [],
   "source": []
  },
  {
   "cell_type": "code",
   "execution_count": null,
   "metadata": {},
   "outputs": [],
   "source": []
  },
  {
   "cell_type": "code",
   "execution_count": null,
   "metadata": {},
   "outputs": [],
   "source": []
  },
  {
   "cell_type": "code",
   "execution_count": 5,
   "metadata": {},
   "outputs": [],
   "source": [
    "cv2.imshow('bin', form.img.binary_map)\n",
    "cv2.waitKey()\n",
    "cv2.destroyAllWindows()"
   ]
  },
  {
   "cell_type": "code",
   "execution_count": 6,
   "metadata": {},
   "outputs": [
    {
     "data": {
      "text/plain": [
       "array([[0., 0., 0., ..., 0., 0., 0.],\n",
       "       [0., 0., 0., ..., 0., 0., 0.],\n",
       "       [0., 0., 0., ..., 0., 0., 0.],\n",
       "       ...,\n",
       "       [0., 0., 0., ..., 0., 0., 0.],\n",
       "       [0., 0., 0., ..., 0., 0., 0.],\n",
       "       [0., 0., 0., ..., 0., 0., 0.]])"
      ]
     },
     "execution_count": 6,
     "metadata": {},
     "output_type": "execute_result"
    }
   ],
   "source": [
    "img = Image('1.jpg')\n",
    "img.detect_rectangle_elements()\n",
    "img.detect_line_elements()\n",
    "b = img.visualize_elements_contours(element_opt='rectangle', board_opt='binary')\n",
    "img.visualize_elements_contours(element_opt='line', board_opt='binary', board=b)"
   ]
  },
  {
   "cell_type": "code",
   "execution_count": 7,
   "metadata": {},
   "outputs": [],
   "source": [
    "cv2.imshow('bin', img.img)\n",
    "cv2.waitKey()\n",
    "cv2.destroyAllWindows()"
   ]
  }
 ],
 "metadata": {
  "kernelspec": {
   "display_name": "Python 3",
   "language": "python",
   "name": "python3"
  },
  "language_info": {
   "codemirror_mode": {
    "name": "ipython",
    "version": 3
   },
   "file_extension": ".py",
   "mimetype": "text/x-python",
   "name": "python",
   "nbconvert_exporter": "python",
   "pygments_lexer": "ipython3",
   "version": "3.5.6"
  }
 },
 "nbformat": 4,
 "nbformat_minor": 2
}
