{
 "cells": [
  {
   "cell_type": "code",
   "execution_count": 1,
   "metadata": {},
   "outputs": [],
   "source": [
    "from Form import Form\n",
    "from Image import Image\n",
    "import cv2"
   ]
  },
  {
   "cell_type": "code",
   "execution_count": 2,
   "metadata": {},
   "outputs": [
    {
     "name": "stdout",
     "output_type": "stream",
     "text": [
      "*** OCR Processing Time:4.377 s***\n",
      "*** Element Detection Time:0.240 s***\n"
     ]
    }
   ],
   "source": [
    "form = Form('data/3.jpg')\n",
    "form.text_detection()\n",
    "form.element_detection()\n",
    "form.visualize_all_elements()"
   ]
  },
  {
   "cell_type": "code",
   "execution_count": null,
   "metadata": {},
   "outputs": [],
   "source": [
    "board = form.img.img.copy()"
   ]
  },
  {
   "cell_type": "code",
   "execution_count": 3,
   "metadata": {},
   "outputs": [
    {
     "data": {
      "text/plain": [
       "<Form.Form at 0x15ff7cee710>"
      ]
     },
     "execution_count": 3,
     "metadata": {},
     "output_type": "execute_result"
    }
   ],
   "source": [
    "for text in form.text:\n",
    "    board = form.img.img.copy()\n",
    "    for rec in form.rectangles:\n",
    "        if text.element_relation(rec) != 0:\n",
    "            text.visualize_element(board, (0,255,0), 2)\n",
    "            rec.visualize_element(board, (0,0,255),2, show=True)"
   ]
  },
  {
   "cell_type": "code",
   "execution_count": null,
   "metadata": {},
   "outputs": [],
   "source": []
  },
  {
   "cell_type": "code",
   "execution_count": 4,
   "metadata": {},
   "outputs": [],
   "source": [
    "elements = form.sort_elements()"
   ]
  },
  {
   "cell_type": "code",
   "execution_count": 6,
   "metadata": {},
   "outputs": [
    {
     "name": "stdout",
     "output_type": "stream",
     "text": [
      "rectangle\n",
      "text\n",
      "text\n",
      "text\n",
      "text\n",
      "text\n",
      "text\n",
      "text\n",
      "text\n",
      "rectangle\n",
      "rectangle\n",
      "rectangle\n",
      "rectangle\n",
      "rectangle\n",
      "rectangle\n",
      "text\n",
      "text\n",
      "rectangle\n",
      "rectangle\n",
      "rectangle\n",
      "rectangle\n",
      "rectangle\n",
      "rectangle\n",
      "rectangle\n",
      "text\n",
      "text\n",
      "text\n",
      "rectangle\n",
      "rectangle\n",
      "text\n",
      "text\n",
      "text\n",
      "rectangle\n",
      "text\n",
      "text\n",
      "text\n",
      "text\n",
      "rectangle\n",
      "rectangle\n",
      "rectangle\n",
      "text\n",
      "text\n",
      "rectangle\n",
      "rectangle\n",
      "rectangle\n",
      "rectangle\n",
      "rectangle\n",
      "rectangle\n",
      "rectangle\n",
      "rectangle\n",
      "rectangle\n",
      "rectangle\n",
      "rectangle\n",
      "rectangle\n",
      "rectangle\n",
      "rectangle\n",
      "rectangle\n",
      "rectangle\n",
      "rectangle\n",
      "rectangle\n",
      "rectangle\n",
      "rectangle\n",
      "rectangle\n",
      "rectangle\n",
      "rectangle\n",
      "rectangle\n",
      "rectangle\n",
      "rectangle\n",
      "rectangle\n",
      "rectangle\n",
      "rectangle\n",
      "rectangle\n",
      "rectangle\n",
      "rectangle\n",
      "rectangle\n",
      "rectangle\n",
      "rectangle\n",
      "rectangle\n",
      "rectangle\n",
      "rectangle\n",
      "rectangle\n",
      "rectangle\n",
      "rectangle\n",
      "rectangle\n",
      "rectangle\n",
      "rectangle\n",
      "rectangle\n",
      "rectangle\n",
      "rectangle\n",
      "rectangle\n",
      "rectangle\n",
      "rectangle\n",
      "rectangle\n",
      "rectangle\n",
      "rectangle\n",
      "rectangle\n",
      "rectangle\n",
      "rectangle\n",
      "rectangle\n",
      "rectangle\n",
      "rectangle\n",
      "rectangle\n",
      "rectangle\n",
      "rectangle\n",
      "rectangle\n",
      "rectangle\n",
      "rectangle\n",
      "rectangle\n",
      "rectangle\n",
      "rectangle\n",
      "rectangle\n",
      "rectangle\n",
      "rectangle\n",
      "rectangle\n",
      "rectangle\n",
      "rectangle\n",
      "rectangle\n",
      "rectangle\n",
      "rectangle\n",
      "rectangle\n",
      "rectangle\n",
      "rectangle\n",
      "rectangle\n",
      "rectangle\n",
      "rectangle\n",
      "rectangle\n",
      "rectangle\n",
      "text\n",
      "text\n",
      "rectangle\n",
      "text\n",
      "text\n",
      "text\n",
      "rectangle\n",
      "rectangle\n",
      "text\n",
      "rectangle\n",
      "rectangle\n",
      "text\n",
      "text\n",
      "text\n",
      "rectangle\n",
      "text\n",
      "text\n",
      "rectangle\n",
      "rectangle\n",
      "text\n",
      "text\n",
      "text\n",
      "rectangle\n",
      "rectangle\n",
      "text\n",
      "text\n",
      "text\n",
      "rectangle\n",
      "rectangle\n",
      "rectangle\n",
      "rectangle\n",
      "rectangle\n",
      "text\n",
      "text\n",
      "text\n",
      "rectangle\n",
      "rectangle\n",
      "text\n",
      "text\n"
     ]
    }
   ],
   "source": [
    "for ele in elements:\n",
    "    print(ele.type)"
   ]
  }
 ],
 "metadata": {
  "kernelspec": {
   "display_name": "Python 3",
   "language": "python",
   "name": "python3"
  },
  "language_info": {
   "codemirror_mode": {
    "name": "ipython",
    "version": 3
   },
   "file_extension": ".py",
   "mimetype": "text/x-python",
   "name": "python",
   "nbconvert_exporter": "python",
   "pygments_lexer": "ipython3",
   "version": "3.5.6"
  }
 },
 "nbformat": 4,
 "nbformat_minor": 2
}
